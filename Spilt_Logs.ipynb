{
 "cells": [
  {
   "cell_type": "code",
   "execution_count": 2,
   "metadata": {},
   "outputs": [],
   "source": [
    "#split BPI 2012 event log into bpi_a, bpi_o and bpi_w and save it to data folder\n",
    "import pandas as pd"
   ]
  },
  {
   "cell_type": "code",
   "execution_count": 3,
   "metadata": {},
   "outputs": [
    {
     "data": {
      "text/html": [
       "<div>\n",
       "<style scoped>\n",
       "    .dataframe tbody tr th:only-of-type {\n",
       "        vertical-align: middle;\n",
       "    }\n",
       "\n",
       "    .dataframe tbody tr th {\n",
       "        vertical-align: top;\n",
       "    }\n",
       "\n",
       "    .dataframe thead th {\n",
       "        text-align: right;\n",
       "    }\n",
       "</style>\n",
       "<table border=\"1\" class=\"dataframe\">\n",
       "  <thead>\n",
       "    <tr style=\"text-align: right;\">\n",
       "      <th></th>\n",
       "      <th>Case ID</th>\n",
       "      <th>Activity</th>\n",
       "      <th>Complete Timestamp</th>\n",
       "      <th>AMOUNT_REQ</th>\n",
       "      <th>Start Timestamp</th>\n",
       "      <th>Resource</th>\n",
       "    </tr>\n",
       "  </thead>\n",
       "  <tbody>\n",
       "    <tr>\n",
       "      <th>0</th>\n",
       "      <td>173688</td>\n",
       "      <td>A_SUBMITTED</td>\n",
       "      <td>10-01-2011 00:38</td>\n",
       "      <td>20000</td>\n",
       "      <td>10-01-2011 00:38</td>\n",
       "      <td>112</td>\n",
       "    </tr>\n",
       "    <tr>\n",
       "      <th>1</th>\n",
       "      <td>173688</td>\n",
       "      <td>A_PARTLYSUBMITTED</td>\n",
       "      <td>10-01-2011 00:38</td>\n",
       "      <td>20000</td>\n",
       "      <td>10-01-2011 00:38</td>\n",
       "      <td>112</td>\n",
       "    </tr>\n",
       "    <tr>\n",
       "      <th>2</th>\n",
       "      <td>173688</td>\n",
       "      <td>A_PREACCEPTED</td>\n",
       "      <td>10-01-2011 00:39</td>\n",
       "      <td>20000</td>\n",
       "      <td>10-01-2011 00:38</td>\n",
       "      <td>112</td>\n",
       "    </tr>\n",
       "    <tr>\n",
       "      <th>3</th>\n",
       "      <td>173688</td>\n",
       "      <td>A_PREACCEPTED</td>\n",
       "      <td>10-01-2011 00:39</td>\n",
       "      <td>20000</td>\n",
       "      <td>10-01-2011 00:38</td>\n",
       "      <td>112</td>\n",
       "    </tr>\n",
       "    <tr>\n",
       "      <th>4</th>\n",
       "      <td>173688</td>\n",
       "      <td>W_Completeren aanvraag</td>\n",
       "      <td>10-01-2011 11:45</td>\n",
       "      <td>20000</td>\n",
       "      <td>10-01-2011 00:38</td>\n",
       "      <td>112</td>\n",
       "    </tr>\n",
       "  </tbody>\n",
       "</table>\n",
       "</div>"
      ],
      "text/plain": [
       "   Case ID                Activity Complete Timestamp  AMOUNT_REQ  \\\n",
       "0   173688             A_SUBMITTED   10-01-2011 00:38       20000   \n",
       "1   173688       A_PARTLYSUBMITTED   10-01-2011 00:38       20000   \n",
       "2   173688           A_PREACCEPTED   10-01-2011 00:39       20000   \n",
       "3   173688           A_PREACCEPTED   10-01-2011 00:39       20000   \n",
       "4   173688  W_Completeren aanvraag   10-01-2011 11:45       20000   \n",
       "\n",
       "    Start Timestamp  Resource  \n",
       "0  10-01-2011 00:38       112  \n",
       "1  10-01-2011 00:38       112  \n",
       "2  10-01-2011 00:38       112  \n",
       "3  10-01-2011 00:38       112  \n",
       "4  10-01-2011 00:38       112  "
      ]
     },
     "execution_count": 3,
     "metadata": {},
     "output_type": "execute_result"
    }
   ],
   "source": [
    "# load dataset\n",
    "file_name = \"data/BPI2012.csv\"\n",
    "df = pd.read_csv(file_name)\n",
    "df.head()"
   ]
  },
  {
   "cell_type": "code",
   "execution_count": 6,
   "metadata": {},
   "outputs": [
    {
     "data": {
      "text/plain": [
       "array(['A_SUBMITTED', 'A_PARTLYSUBMITTED', 'A_PREACCEPTED', 'A_ACCEPTED',\n",
       "       'A_FINALIZED', 'A_REGISTERED', 'A_APPROVED', 'A_ACTIVATED',\n",
       "       'A_DECLINED', 'A_CANCELLED'], dtype=object)"
      ]
     },
     "execution_count": 6,
     "metadata": {},
     "output_type": "execute_result"
    }
   ],
   "source": [
    "#filter activity column for all activities starting with A for bpi12a log\n",
    "df_a = df[(df[\"Activity\"].str.startswith('A'))]\n",
    "df_a[\"Activity\"].unique()"
   ]
  },
  {
   "cell_type": "code",
   "execution_count": 7,
   "metadata": {},
   "outputs": [
    {
     "data": {
      "text/plain": [
       "array(['O_SELECTED', 'O_CREATED', 'O_SENT', 'O_SENT_BACK', 'O_ACCEPTED',\n",
       "       'O_CANCELLED', 'O_DECLINED'], dtype=object)"
      ]
     },
     "execution_count": 7,
     "metadata": {},
     "output_type": "execute_result"
    }
   ],
   "source": [
    "#filter activity column for all activities starting with o for bpi12o log\n",
    "df_o = df[(df[\"Activity\"].str.startswith('O'))]\n",
    "df_o[\"Activity\"].unique()"
   ]
  },
  {
   "cell_type": "code",
   "execution_count": 9,
   "metadata": {},
   "outputs": [
    {
     "data": {
      "text/plain": [
       "array(['W_Completeren aanvraag', 'W_Nabellen offertes',\n",
       "       'W_Valideren aanvraag', 'W_Afhandelen leads',\n",
       "       'W_Nabellen incomplete dossiers', 'W_Beoordelen fraude'],\n",
       "      dtype=object)"
      ]
     },
     "execution_count": 9,
     "metadata": {},
     "output_type": "execute_result"
    }
   ],
   "source": [
    "#filter activity column for all activities starting with w for bpi12w log\n",
    "df_w = df[(df[\"Activity\"].str.startswith('W'))]\n",
    "df_w[\"Activity\"].unique()"
   ]
  },
  {
   "cell_type": "code",
   "execution_count": 11,
   "metadata": {},
   "outputs": [],
   "source": [
    "#save files to write folder\n",
    "df_a.to_csv(\"data/bpi12a\",index=False)\n",
    "df_o.to_csv(\"data/bpi12o\",index=False)\n",
    "df_w.to_csv(\"data/bpi12w\",index=False)"
   ]
  },
  {
   "cell_type": "code",
   "execution_count": null,
   "metadata": {},
   "outputs": [],
   "source": [
    "#preprocess RF log"
   ]
  }
 ],
 "metadata": {
  "kernelspec": {
   "display_name": "Python 3",
   "language": "python",
   "name": "python3"
  },
  "language_info": {
   "codemirror_mode": {
    "name": "ipython",
    "version": 3
   },
   "file_extension": ".py",
   "mimetype": "text/x-python",
   "name": "python",
   "nbconvert_exporter": "python",
   "pygments_lexer": "ipython3",
   "version": "3.7.0"
  }
 },
 "nbformat": 4,
 "nbformat_minor": 2
}
